{
 "cells": [
  {
   "cell_type": "code",
   "execution_count": 3,
   "metadata": {},
   "outputs": [
    {
     "data": {
      "text/html": [
       "<div>\n",
       "<style scoped>\n",
       "    .dataframe tbody tr th:only-of-type {\n",
       "        vertical-align: middle;\n",
       "    }\n",
       "\n",
       "    .dataframe tbody tr th {\n",
       "        vertical-align: top;\n",
       "    }\n",
       "\n",
       "    .dataframe thead th {\n",
       "        text-align: right;\n",
       "    }\n",
       "</style>\n",
       "<table border=\"1\" class=\"dataframe\">\n",
       "  <thead>\n",
       "    <tr style=\"text-align: right;\">\n",
       "      <th></th>\n",
       "      <th>speaker</th>\n",
       "      <th>text</th>\n",
       "      <th>title</th>\n",
       "      <th>start_time</th>\n",
       "      <th>end_time</th>\n",
       "    </tr>\n",
       "  </thead>\n",
       "  <tbody>\n",
       "    <tr>\n",
       "      <th>0</th>\n",
       "      <td>\\n###Human:\\n</td>\n",
       "      <td>Tell people about the average American.</td>\n",
       "      <td>You Don't Want To Be An Average American | Jam...</td>\n",
       "      <td>60</td>\n",
       "      <td>1750</td>\n",
       "    </tr>\n",
       "    <tr>\n",
       "      <th>1</th>\n",
       "      <td>\\n###Assistant:\\n</td>\n",
       "      <td>Average American is obese, divorced with less ...</td>\n",
       "      <td>You Don't Want To Be An Average American | Jam...</td>\n",
       "      <td>1910</td>\n",
       "      <td>11133</td>\n",
       "    </tr>\n",
       "    <tr>\n",
       "      <th>2</th>\n",
       "      <td>\\n###Human:\\n</td>\n",
       "      <td>Exactly. Yeah. So many people are fighting to ...</td>\n",
       "      <td>You Don't Want To Be An Average American | Jam...</td>\n",
       "      <td>11213</td>\n",
       "      <td>56808</td>\n",
       "    </tr>\n",
       "    <tr>\n",
       "      <th>3</th>\n",
       "      <td>\\n###Assistant:\\n</td>\n",
       "      <td>In the past, only the paranoid survived.</td>\n",
       "      <td>You Don't Want To Be An Average American | Jam...</td>\n",
       "      <td>56969</td>\n",
       "      <td>59371</td>\n",
       "    </tr>\n",
       "  </tbody>\n",
       "</table>\n",
       "</div>"
      ],
      "text/plain": [
       "             speaker                                               text  \\\n",
       "0      \\n###Human:\\n           Tell people about the average American.    \n",
       "1  \\n###Assistant:\\n  Average American is obese, divorced with less ...   \n",
       "2      \\n###Human:\\n  Exactly. Yeah. So many people are fighting to ...   \n",
       "3  \\n###Assistant:\\n          In the past, only the paranoid survived.    \n",
       "\n",
       "                                               title  start_time  end_time  \n",
       "0  You Don't Want To Be An Average American | Jam...          60      1750  \n",
       "1  You Don't Want To Be An Average American | Jam...        1910     11133  \n",
       "2  You Don't Want To Be An Average American | Jam...       11213     56808  \n",
       "3  You Don't Want To Be An Average American | Jam...       56969     59371  "
      ]
     },
     "execution_count": 3,
     "metadata": {},
     "output_type": "execute_result"
    }
   ],
   "source": [
    "import pandas as pd\n",
    "\n",
    "DATASET = \"Downloads/Dataset/dataset.csv\"\n",
    "\n",
    "# Load the CSV dataset into a DataFrame\n",
    "df = pd.read_csv(DATASET)\n",
    "\n",
    "# Print the first few rows of the DataFrame\n",
    "df.head()"
   ]
  },
  {
   "cell_type": "code",
   "execution_count": 15,
   "metadata": {},
   "outputs": [],
   "source": [
    "import pandas as pd\n",
    "from datasets import load_dataset, Dataset\n",
    "\n",
    "# Load the dataset from the CSV file\n",
    "dataset = load_dataset('csv', data_files=DATASET,)\n",
    "\n",
    "# Convert to Pandas DataFrame for easier manipulation\n",
    "df = pd.DataFrame(dataset['train'])\n",
    "\n",
    "# Define a function to format the text appropriately\n",
    "def format_text(row):\n",
    "    return f\"{row['speaker']} {row['text']}\"\n",
    "\n",
    "# Apply the function to each row\n",
    "df['formatted_text'] = df.apply(format_text, axis=1)\n",
    "\n",
    "# Group by 'title' and concatenate the 'formatted_text' entries\n",
    "grouped_df = df.groupby('title').agg({'formatted_text':'\\n'.join}).reset_index()\n",
    "\n",
    "# Rename columns for clarity\n",
    "grouped_df.columns = ['title', 'conversation']\n",
    "\n",
    "# Convert the processed Pandas DataFrame back to a Hugging Face dataset\n",
    "processed_dataset = Dataset.from_pandas(grouped_df)\n",
    "\n",
    "# Now you can use processed_dataset for your NLP tasks"
   ]
  },
  {
   "cell_type": "code",
   "execution_count": 8,
   "metadata": {},
   "outputs": [
    {
     "data": {
      "text/plain": [
       "\"\\n###Human:\\n Tell people about the average American. \\n\\n###Assistant:\\n Average American is obese, divorced with less than one K in the bank. So by doing what everyone else does, it seems like a safe route. It's actually a reliable way to achieve a life that you don't want. \\n\\n###Human:\\n Exactly. Yeah. So many people are fighting to do the normal thing. The normal thing is to play it safe. The majority of people are pessimists because the majority of optimist people found their way out of the gene pool. There's going to be some absolute experts in human evolution. They're going to be like, But ultimately, any single human through hundreds of thousands of years, oh yeah, we'll get across that river, out the gene pool. Oh, it's not that cold. out, out the gene pool. The evolution is all of the people that are risk averse, worried about things going wrong and avoiding all the opportunities that are around them to the point that they don't take risks. But now we have this massive primal mechanism of fear that is supposed to keep us alive. And now we're associating that mechanism of fear to really trivial stuff like how does my CV look? What if I ask the girl for a number and she says no? We're using this massive, primitive, keep-us-alive mechanism to everyday tasks, and it's keeping people from doing the one thing. \\n\\n###Assistant:\\n In the past, only the paranoid survived. \""
      ]
     },
     "execution_count": 8,
     "metadata": {},
     "output_type": "execute_result"
    }
   ],
   "source": [
    "processed_dataset[\"conversation\"][0]"
   ]
  },
  {
   "cell_type": "code",
   "execution_count": 9,
   "metadata": {},
   "outputs": [
    {
     "data": {
      "application/vnd.jupyter.widget-view+json": {
       "model_id": "0abeb666f60044149cc74fc759a96e57",
       "version_major": 2,
       "version_minor": 0
      },
      "text/plain": [
       "Map:   0%|          | 0/4 [00:00<?, ? examples/s]"
      ]
     },
     "metadata": {},
     "output_type": "display_data"
    }
   ],
   "source": [
    "def preprocess(example):\n",
    "    # Example of preprocessing function\n",
    "    # Let's say you want to lowercase the text and remove punctuation\n",
    "    example['text'] = example['text'].lower().replace('.', '').replace(',', '')\n",
    "    return example\n",
    "\n",
    "# Apply the map function\n",
    "dataset = dataset.map(preprocess)\n"
   ]
  },
  {
   "cell_type": "code",
   "execution_count": 14,
   "metadata": {},
   "outputs": [
    {
     "data": {
      "text/plain": [
       "['tell people about the average american ',\n",
       " \"average american is obese divorced with less than one k in the bank so by doing what everyone else does it seems like a safe route it's actually a reliable way to achieve a life that you don't want \",\n",
       " \"exactly yeah so many people are fighting to do the normal thing the normal thing is to play it safe the majority of people are pessimists because the majority of optimist people found their way out of the gene pool there's going to be some absolute experts in human evolution they're going to be like but ultimately any single human through hundreds of thousands of years oh yeah we'll get across that river out the gene pool oh it's not that cold out out the gene pool the evolution is all of the people that are risk averse worried about things going wrong and avoiding all the opportunities that are around them to the point that they don't take risks but now we have this massive primal mechanism of fear that is supposed to keep us alive and now we're associating that mechanism of fear to really trivial stuff like how does my cv look? what if i ask the girl for a number and she says no? we're using this massive primitive keep-us-alive mechanism to everyday tasks and it's keeping people from doing the one thing \",\n",
       " 'in the past only the paranoid survived ']"
      ]
     },
     "execution_count": 14,
     "metadata": {},
     "output_type": "execute_result"
    }
   ],
   "source": [
    "dataset[\"train\"][\"text\"]"
   ]
  },
  {
   "cell_type": "code",
   "execution_count": null,
   "metadata": {},
   "outputs": [],
   "source": []
  }
 ],
 "metadata": {
  "kernelspec": {
   "display_name": "venv",
   "language": "python",
   "name": "python3"
  },
  "language_info": {
   "codemirror_mode": {
    "name": "ipython",
    "version": 3
   },
   "file_extension": ".py",
   "mimetype": "text/x-python",
   "name": "python",
   "nbconvert_exporter": "python",
   "pygments_lexer": "ipython3",
   "version": "3.10.11"
  }
 },
 "nbformat": 4,
 "nbformat_minor": 2
}
